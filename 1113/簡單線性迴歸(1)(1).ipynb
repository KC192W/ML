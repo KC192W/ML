{
 "cells": [
  {
   "cell_type": "markdown",
   "metadata": {},
   "source": [
    "# 範例1. 使用自動微分估算簡單線性迴歸的參數(w、b)\n",
    "## $ y = wx + b$"
   ]
  },
  {
   "cell_type": "code",
   "execution_count": 3,
   "metadata": {},
   "outputs": [],
   "source": [
    "# 載入套件\n",
    "import numpy as np \n",
    "import tensorflow as tf "
   ]
  },
  {
   "cell_type": "markdown",
   "metadata": {},
   "source": [
    "## 定義訓練函數"
   ]
  },
  {
   "cell_type": "code",
   "execution_count": 4,
   "metadata": {},
   "outputs": [],
   "source": [
    "# 定義損失函數\n",
    "def loss(y, y_pred):\n",
    "    return tf.reduce_mean(tf.square(y - y_pred))"
   ]
  },
  {
   "cell_type": "code",
   "execution_count": 6,
   "metadata": {},
   "outputs": [],
   "source": [
    "# 定義預測值函數\n",
    "def predict(X):\n",
    "    return w * X + b    "
   ]
  },
  {
   "cell_type": "code",
   "execution_count": 7,
   "metadata": {},
   "outputs": [],
   "source": [
    "# 定義訓練函數\n",
    "def train(X, y, epochs=40, lr=0.0001):\n",
    "    current_loss=0                                # 損失函數值\n",
    "    for epoch in range(epochs):                   # 執行訓練週期\n",
    "        with tf.GradientTape() as t:              # 自動微分\n",
    "            t.watch(tf.constant(X))               # 宣告 TensorFlow 常數參與自動微分\n",
    "            current_loss = loss(y, predict(X))    # 計算損失函數值\n",
    "        \n",
    "        dw, db = t.gradient(current_loss, [w, b]) # 取得 w, b 個別的梯度\n",
    "\n",
    "        # 更新權重：新權重 = 原權重 — 學習率(learning_rate) * 梯度(gradient)\n",
    "        w.assign_sub(lr * dw) # w -= lr * dw\n",
    "        b.assign_sub(lr * db) # b -= lr * db\n",
    "\n",
    "        # 顯示每一訓練週期的損失函數\n",
    "        print(f'Epoch {epoch}: Loss: {current_loss.numpy()}') "
   ]
  },
  {
   "cell_type": "markdown",
   "metadata": {},
   "source": [
    "## 產生隨機資料"
   ]
  },
  {
   "cell_type": "code",
   "execution_count": 8,
   "metadata": {},
   "outputs": [],
   "source": [
    "# 產生線性隨機資料100筆，介於 0-50\n",
    "n = 100\n",
    "X = np.linspace(0, 50, n) \n",
    "y = np.linspace(0, 50, n) \n",
    "  \n",
    "# 資料加一點雜訊(noise)\n",
    "X += np.random.uniform(-10, 10, n) \n",
    "y += np.random.uniform(-10, 10, n) "
   ]
  },
  {
   "cell_type": "code",
   "execution_count": 9,
   "metadata": {},
   "outputs": [
    {
     "data": {
      "text/plain": [
       "array([-0.2323179 ,  1.87984653, -0.50832769,  3.39403034, -7.41282696,\n",
       "       12.09439708,  0.55975314,  0.46598153,  1.20773915, -2.66909496,\n",
       "       -2.46511205, -0.1936885 , 10.02863258, 16.16722379, 11.78619174,\n",
       "        3.55984356, 14.19116103,  1.85383699, 13.86396151, 15.83218406,\n",
       "       18.05942438,  2.14030583,  7.06882294, 14.83976048, 19.65731125,\n",
       "       11.78279871, 20.61156066,  6.67719391, 13.22155726,  8.4828124 ,\n",
       "       15.37405274,  7.06084692, 25.52704704, 24.24885182, 12.52593575,\n",
       "       23.34102837,  8.31833336,  9.2813563 , 18.55331683, 26.57960115,\n",
       "       20.16977601, 24.40328116, 24.81782275, 13.31124174, 25.07356032,\n",
       "       14.16465284, 21.00747223, 30.69742315, 27.08091865, 19.31891741,\n",
       "       31.03486425, 22.41184357, 25.8259002 , 34.90079749, 33.32063371,\n",
       "       23.09635811, 28.40042089, 25.77437837, 23.01869282, 23.58009967,\n",
       "       35.729498  , 38.32476193, 33.77327272, 38.01797259, 30.12891529,\n",
       "       32.65988464, 36.19252513, 34.28173396, 34.5489164 , 29.7192652 ,\n",
       "       38.77421774, 41.59307729, 36.3196075 , 45.58835595, 43.09565231,\n",
       "       44.19297276, 31.67323594, 41.04865516, 43.50544154, 46.61803261,\n",
       "       44.18765619, 35.05994609, 32.79066748, 34.03340725, 52.23260893,\n",
       "       46.95950082, 35.49779756, 49.83483028, 50.68540499, 50.72617513,\n",
       "       45.66299538, 36.18306954, 38.67910732, 48.36691578, 56.91878089,\n",
       "       42.39944971, 51.17351761, 44.55897571, 57.38734301, 50.27989042])"
      ]
     },
     "execution_count": 9,
     "metadata": {},
     "output_type": "execute_result"
    }
   ],
   "source": [
    "X"
   ]
  },
  {
   "cell_type": "code",
   "execution_count": 10,
   "metadata": {
    "scrolled": true
   },
   "outputs": [
    {
     "data": {
      "text/plain": [
       "array([ 8.51536213, -2.57458054,  7.38524692,  6.26830225, 10.65193456,\n",
       "        2.37341337,  6.62959831, -0.403032  ,  8.78542382,  5.11648744,\n",
       "        8.04806212,  8.89755307, -3.08461016, -0.36680672,  4.97049634,\n",
       "        0.43831398, 15.13735619,  1.86935957, 10.49624574,  7.69589475,\n",
       "       17.97565443,  6.90208145, 15.5667083 , 13.61495529, 17.76419405,\n",
       "       13.10543109,  9.34826495, 13.67934397,  4.6344077 ,  7.24760226,\n",
       "       23.17198988, 23.67796672, 14.7396143 , 13.96445535, 26.5618217 ,\n",
       "       17.17236816, 25.46478294, 21.98683218, 23.40919416, 25.67314934,\n",
       "       19.99805727, 27.26088712, 30.13328336, 14.13959615, 26.80542895,\n",
       "       19.50517363, 25.63357576, 18.76761717, 26.15666804, 22.21940267,\n",
       "       35.0019156 , 32.02167829, 30.55207871, 30.29163064, 36.26575044,\n",
       "       35.32061239, 19.85524159, 31.24427997, 29.35870671, 23.91092376,\n",
       "       29.34118623, 33.12432126, 39.18485467, 26.78475721, 31.44668176,\n",
       "       31.16047015, 30.63016802, 27.32350691, 26.2041626 , 39.23835096,\n",
       "       28.51430646, 42.99428191, 32.74673876, 45.80315564, 34.6633518 ,\n",
       "       29.21414626, 47.14711301, 31.97531949, 36.46091229, 44.19259019,\n",
       "       42.44233588, 39.54738497, 43.32877808, 40.61098883, 41.86686838,\n",
       "       41.16541552, 44.05149231, 47.16208249, 48.10626932, 44.19898654,\n",
       "       45.85198349, 36.12071402, 43.75690102, 50.88374404, 40.68112687,\n",
       "       56.7014172 , 57.90265509, 54.01445319, 43.64791194, 40.78041043])"
      ]
     },
     "execution_count": 10,
     "metadata": {},
     "output_type": "execute_result"
    }
   ],
   "source": [
    "y"
   ]
  },
  {
   "cell_type": "markdown",
   "metadata": {},
   "source": [
    "## 執行訓練"
   ]
  },
  {
   "cell_type": "code",
   "execution_count": 11,
   "metadata": {
    "scrolled": false
   },
   "outputs": [
    {
     "name": "stdout",
     "output_type": "stream",
     "text": [
      "Epoch 0: Loss: 883.9701538085938\n",
      "Epoch 1: Loss: 613.8113403320312\n",
      "Epoch 2: Loss: 432.507568359375\n",
      "Epoch 3: Loss: 310.8343811035156\n",
      "Epoch 4: Loss: 229.17926025390625\n",
      "Epoch 5: Loss: 174.38018798828125\n",
      "Epoch 6: Loss: 137.6042938232422\n",
      "Epoch 7: Loss: 112.92372131347656\n",
      "Epoch 8: Loss: 96.36031341552734\n",
      "Epoch 9: Loss: 85.24431610107422\n",
      "Epoch 10: Loss: 77.78410339355469\n",
      "Epoch 11: Loss: 72.77726745605469\n",
      "Epoch 12: Loss: 69.4168930053711\n",
      "Epoch 13: Loss: 67.16145324707031\n",
      "Epoch 14: Loss: 65.64755249023438\n",
      "Epoch 15: Loss: 64.63128662109375\n",
      "Epoch 16: Loss: 63.9489860534668\n",
      "Epoch 17: Loss: 63.490806579589844\n",
      "Epoch 18: Loss: 63.183040618896484\n",
      "Epoch 19: Loss: 62.97621154785156\n",
      "Epoch 20: Loss: 62.83712387084961\n",
      "Epoch 21: Loss: 62.743499755859375\n",
      "Epoch 22: Loss: 62.680381774902344\n",
      "Epoch 23: Loss: 62.63774490356445\n",
      "Epoch 24: Loss: 62.60883331298828\n",
      "Epoch 25: Loss: 62.58915710449219\n",
      "Epoch 26: Loss: 62.575660705566406\n",
      "Epoch 27: Loss: 62.56631851196289\n",
      "Epoch 28: Loss: 62.559776306152344\n",
      "Epoch 29: Loss: 62.555091857910156\n",
      "Epoch 30: Loss: 62.551658630371094\n",
      "Epoch 31: Loss: 62.5490837097168\n",
      "Epoch 32: Loss: 62.547054290771484\n",
      "Epoch 33: Loss: 62.545413970947266\n",
      "Epoch 34: Loss: 62.54403305053711\n",
      "Epoch 35: Loss: 62.54281234741211\n",
      "Epoch 36: Loss: 62.541725158691406\n",
      "Epoch 37: Loss: 62.54070281982422\n",
      "Epoch 38: Loss: 62.53972625732422\n",
      "Epoch 39: Loss: 62.538787841796875\n",
      "w=0.952202320098877, b=0.038539446890354156\n"
     ]
    }
   ],
   "source": [
    "# w、b 初始值均設為 0\n",
    "w = tf.Variable(0.0)\n",
    "b = tf.Variable(0.0)\n",
    "\n",
    "# 執行訓練\n",
    "train(X, y)\n",
    "\n",
    "# w、b 的最佳解\n",
    "print(f'w={w.numpy()}, b={b.numpy()}')"
   ]
  },
  {
   "cell_type": "markdown",
   "metadata": {},
   "source": [
    "## 顯示迴歸線"
   ]
  },
  {
   "cell_type": "code",
   "execution_count": 12,
   "metadata": {},
   "outputs": [
    {
     "data": {
      "text/plain": [
       "<matplotlib.legend.Legend at 0x1d0ce89d640>"
      ]
     },
     "execution_count": 12,
     "metadata": {},
     "output_type": "execute_result"
    },
    {
     "data": {
      "image/png": "[encoded data removed]",
      "text/plain": [
       "<Figure size 640x480 with 1 Axes>"
      ]
     },
     "metadata": {},
     "output_type": "display_data"
    }
   ],
   "source": [
    "import matplotlib.pyplot as plt \n",
    "\n",
    "plt.scatter(X, y, label='data')\n",
    "plt.plot(X, predict(X), 'r-', label='predicted')\n",
    "plt.legend()"
   ]
  },
  {
   "cell_type": "code",
   "execution_count": null,
   "metadata": {},
   "outputs": [],
   "source": []
  }
 ],
 "metadata": {
  "kernelspec": {
   "display_name": "Python 3 (ipykernel)",
   "language": "python",
   "name": "python3"
  },
  "language_info": {
   "codemirror_mode": {
    "name": "ipython",
    "version": 3
   },
   "file_extension": ".py",
   "mimetype": "text/x-python",
   "name": "python",
   "nbconvert_exporter": "python",
   "pygments_lexer": "ipython3",
   "version": "3.9.13"
  }
 },
 "nbformat": 4,
 "nbformat_minor": 4
}
