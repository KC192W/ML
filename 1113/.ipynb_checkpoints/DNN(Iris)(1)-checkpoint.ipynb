{
 "cells": [
  {
   "cell_type": "markdown",
   "metadata": {
    "id": "XhJcEWe1hK8T"
   },
   "source": [
    "載入套件"
   ]
  },
  {
   "cell_type": "code",
   "execution_count": 24,
   "metadata": {
    "executionInfo": {
     "elapsed": 2,
     "status": "ok",
     "timestamp": 1696437240785,
     "user": {
      "displayName": "Yi-Hung Kung",
      "userId": "06185161035468637340"
     },
     "user_tz": -480
    },
    "id": "nuL676tWZWkU"
   },
   "outputs": [],
   "source": [
    "import pandas as pd\n",
    "import numpy as np\n",
    "from sklearn import datasets, preprocessing\n",
    "from sklearn.model_selection import train_test_split\n",
    "from keras.models import Sequential\n",
    "from keras.layers import Dense,Dropout\n",
    "from keras.optimizers import SGD, Adam\n",
    "import matplotlib.pyplot as plt"
   ]
  },
  {
   "cell_type": "markdown",
   "metadata": {
    "id": "wukkYx1zhSFS"
   },
   "source": [
    "資料整理"
   ]
  },
  {
   "cell_type": "code",
   "execution_count": 25,
   "metadata": {
    "executionInfo": {
     "elapsed": 2,
     "status": "ok",
     "timestamp": 1696437244871,
     "user": {
      "displayName": "Yi-Hung Kung",
      "userId": "06185161035468637340"
     },
     "user_tz": -480
    },
    "id": "lSIxFXYqhVjz"
   },
   "outputs": [],
   "source": [
    "#取得資料\n",
    "iris = datasets.load_iris()\n",
    "df = pd.DataFrame(iris['data'], columns=iris['feature_names'])\n",
    "\n",
    "#資料轉換:標準化\n",
    "min_max_scaler = preprocessing.MinMaxScaler()\n",
    "df = pd.DataFrame(min_max_scaler.fit_transform(df),columns=iris['feature_names'])\n",
    "\n",
    "#定義變數\n",
    "labels = np.array(df['sepal length (cm)']) #應變數\n",
    "features= df.drop('sepal length (cm)', axis = 1) #自變數\n",
    "\n",
    "#隨機抽樣\n",
    "trainX, testX, trainY, testY = train_test_split(features, labels, test_size = 0.3, random_state = 42)\n",
    "trainY = trainY.reshape(-1, 1) #創行\n",
    "testY = testY.reshape(-1, 1) #創行"
   ]
  },
  {
   "cell_type": "markdown",
   "metadata": {
    "id": "FJhwyrTobFAW"
   },
   "source": [
    "建模與訓練"
   ]
  },
  {
   "cell_type": "code",
   "execution_count": 26,
   "metadata": {
    "colab": {
     "base_uri": "https://localhost:8080/"
    },
    "executionInfo": {
     "elapsed": 3027,
     "status": "ok",
     "timestamp": 1696437251896,
     "user": {
      "displayName": "Yi-Hung Kung",
      "userId": "06185161035468637340"
     },
     "user_tz": -480
    },
    "id": "DQ-HmXD7bIAF",
    "outputId": "6e681b4e-9bb6-4fe7-9dbd-0f63efc24867"
   },
   "outputs": [
    {
     "name": "stdout",
     "output_type": "stream",
     "text": [
      "Epoch 1/20\n",
      "4/4 [==============================] - 2s 7ms/step - loss: 0.1907 - mse: 0.1907 - mape: 167109.4688\n",
      "Epoch 2/20\n",
      "4/4 [==============================] - 0s 13ms/step - loss: 0.0614 - mse: 0.0614 - mape: 3631016.2500\n",
      "Epoch 3/20\n",
      "4/4 [==============================] - 0s 11ms/step - loss: 0.0520 - mse: 0.0520 - mape: 3697624.5000\n",
      "Epoch 4/20\n",
      "4/4 [==============================] - 0s 9ms/step - loss: 0.0405 - mse: 0.0405 - mape: 3238433.0000\n",
      "Epoch 5/20\n",
      "4/4 [==============================] - 0s 8ms/step - loss: 0.0354 - mse: 0.0354 - mape: 1532220.5000\n",
      "Epoch 6/20\n",
      "4/4 [==============================] - 0s 19ms/step - loss: 0.0307 - mse: 0.0307 - mape: 1822836.8750\n",
      "Epoch 7/20\n",
      "4/4 [==============================] - 0s 14ms/step - loss: 0.0342 - mse: 0.0342 - mape: 2647136.2500\n",
      "Epoch 8/20\n",
      "4/4 [==============================] - 0s 12ms/step - loss: 0.0323 - mse: 0.0323 - mape: 1893193.0000\n",
      "Epoch 9/20\n",
      "4/4 [==============================] - 0s 10ms/step - loss: 0.0374 - mse: 0.0374 - mape: 1880554.3750\n",
      "Epoch 10/20\n",
      "4/4 [==============================] - 0s 7ms/step - loss: 0.0297 - mse: 0.0297 - mape: 2452488.7500\n",
      "Epoch 11/20\n",
      "4/4 [==============================] - 0s 9ms/step - loss: 0.0263 - mse: 0.0263 - mape: 2066107.2500\n",
      "Epoch 12/20\n",
      "4/4 [==============================] - 0s 8ms/step - loss: 0.0297 - mse: 0.0297 - mape: 1814102.0000\n",
      "Epoch 13/20\n",
      "4/4 [==============================] - 0s 9ms/step - loss: 0.0248 - mse: 0.0248 - mape: 2006571.1250\n",
      "Epoch 14/20\n",
      "4/4 [==============================] - 0s 10ms/step - loss: 0.0254 - mse: 0.0254 - mape: 1596584.1250\n",
      "Epoch 15/20\n",
      "4/4 [==============================] - 0s 7ms/step - loss: 0.0210 - mse: 0.0210 - mape: 1971763.2500\n",
      "Epoch 16/20\n",
      "4/4 [==============================] - 0s 7ms/step - loss: 0.0212 - mse: 0.0212 - mape: 1376068.8750\n",
      "Epoch 17/20\n",
      "4/4 [==============================] - 0s 7ms/step - loss: 0.0219 - mse: 0.0219 - mape: 1039331.8750\n",
      "Epoch 18/20\n",
      "4/4 [==============================] - 0s 8ms/step - loss: 0.0227 - mse: 0.0227 - mape: 2258848.2500\n",
      "Epoch 19/20\n",
      "4/4 [==============================] - 0s 10ms/step - loss: 0.0194 - mse: 0.0194 - mape: 1954425.7500\n",
      "Epoch 20/20\n",
      "4/4 [==============================] - 0s 8ms/step - loss: 0.0273 - mse: 0.0273 - mape: 1605196.3750\n"
     ]
    }
   ],
   "source": [
    "#建模\n",
    "model = Sequential()\n",
    "model.add(Dense(64, input_dim=3, activation='relu'))\n",
    "model.add(Dropout(0.5))\n",
    "model.add(Dense(1)) #類別型, activation='softmax'\n",
    "model.compile(loss='mse', #類別型'categorical_crossentropy'\n",
    "              optimizer=SGD(learning_rate=0.1),#adam\n",
    "              metrics=['mse','mape']) #類別型'accuracy'\n",
    "\n",
    "#訓練\n",
    "dnn = model.fit(trainX, trainY,epochs=20,batch_size=30)"
   ]
  },
  {
   "cell_type": "markdown",
   "metadata": {
    "id": "HhRWt7LIdpY-"
   },
   "source": [
    "預測"
   ]
  },
  {
   "cell_type": "code",
   "execution_count": 27,
   "metadata": {
    "colab": {
     "base_uri": "https://localhost:8080/"
    },
    "executionInfo": {
     "elapsed": 783,
     "status": "ok",
     "timestamp": 1696437259851,
     "user": {
      "displayName": "Yi-Hung Kung",
      "userId": "06185161035468637340"
     },
     "user_tz": -480
    },
    "id": "sSBOnqxndua8",
    "outputId": "23c9f78f-70d4-474c-c18d-902981a08ca3"
   },
   "outputs": [
    {
     "name": "stdout",
     "output_type": "stream",
     "text": [
      "2/2 [==============================] - 0s 4ms/step\n",
      "0.07995717849260496\n",
      "36.269663942986824\n"
     ]
    }
   ],
   "source": [
    "predictions = model.predict(testX)\n",
    "predictions = predictions.reshape(-1, 1)\n",
    "mae = np.mean(np.abs((testY - predictions))) #mae\n",
    "mape = np.mean(np.abs((testY - predictions) / testY)) * 100\n",
    "print(mae)\n",
    "print(mape)"
   ]
  }
 ],
 "metadata": {
  "colab": {
   "authorship_tag": "ABX9TyNTG+S8Yxd8K3J1SdijXweR",
   "provenance": [
    {
     "file_id": "198UN2I7TqpBxlDRmNcUg1rk_P0SDVVyT",
     "timestamp": 1687593315385
    }
   ]
  },
  "kernelspec": {
   "display_name": "Python 3 (ipykernel)",
   "language": "python",
   "name": "python3"
  },
  "language_info": {
   "codemirror_mode": {
    "name": "ipython",
    "version": 3
   },
   "file_extension": ".py",
   "mimetype": "text/x-python",
   "name": "python",
   "nbconvert_exporter": "python",
   "pygments_lexer": "ipython3",
   "version": "3.9.13"
  }
 },
 "nbformat": 4,
 "nbformat_minor": 1
}
